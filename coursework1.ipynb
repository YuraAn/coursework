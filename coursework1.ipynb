{
 "cells": [
  {
   "cell_type": "markdown",
   "id": "19c085ca",
   "metadata": {},
   "source": [
    "# Курсовая работа"
   ]
  },
  {
   "cell_type": "markdown",
   "id": "0fbd83a3",
   "metadata": {},
   "source": [
    "## 1 часть: метод наименьших квадратов"
   ]
  },
  {
   "cell_type": "markdown",
   "id": "3101f7fb",
   "metadata": {},
   "source": [
    "В математике есть множество способов обработки данных и нахождение каких-либо закономерностей, но работать с достаточно большими данными вручную невозможно. Для таких целей можно воспользоваться языком программирования Python!"
   ]
  },
  {
   "cell_type": "markdown",
   "id": "b5c922e6",
   "metadata": {},
   "source": [
    "Начнем  импорта основных полезных библиотек python для выполнения нашей задачи. У насс здесь несколько таких:\n",
    "    \n",
    "    numpy -> используется для математических и логических операций с нашими данными\n",
    "    \n",
    "    pandas -> Используется для обработки и хранения наших данных\n",
    "    \n",
    "    matplotlib -> Используется для визуализации данных, создания графиков и т.д.\n",
    "    "
   ]
  },
  {
   "cell_type": "code",
   "execution_count": 4,
   "id": "e571a1c8",
   "metadata": {},
   "outputs": [
    {
     "name": "stderr",
     "output_type": "stream",
     "text": [
      "UsageError: Line magic function `%matpiotlib` not found.\n"
     ]
    }
   ],
   "source": [
    "import numpy as np\n",
    "import pandas as pd\n",
    "import matplotlib.pyplot as plt\n",
    "%matpiotlib inline"
   ]
  },
  {
   "cell_type": "markdown",
   "id": "cd9f2d90",
   "metadata": {},
   "source": [
    "Теперь возьмем данные из таблицы Excel c помощью библиотеки pandas. С ней удобно работать так как обычно задачи для обработки содержат достаточно много данных, которые автоматически записываются в таблицы."
   ]
  },
  {
   "cell_type": "code",
   "execution_count": 6,
   "id": "b278f33e",
   "metadata": {
    "scrolled": true
   },
   "outputs": [
    {
     "name": "stdout",
     "output_type": "stream",
     "text": [
      "    x      y\n",
      "0   0  10.50\n",
      "1   8  10.46\n",
      "2  10  10.46\n",
      "3  19  10.45\n",
      "4  20  10.45\n"
     ]
    }
   ],
   "source": [
    "data = pd.read_excel('https://github.com/YuraAn/coursework/raw/main/210_1.xlsx', sheet_name = 'Анастасов')\n",
    "print(data.head())"
   ]
  },
  {
   "cell_type": "code",
   "execution_count": 19,
   "id": "b482d20f",
   "metadata": {},
   "outputs": [
    {
     "name": "stdout",
     "output_type": "stream",
     "text": [
      "[  0.   8.  10.  19.  20.  30.  39.  50.  58.  75.  78. 100. 117. 125.\n",
      " 150. 152. 200. 221. 250. 285. 300. 373. 400. 500. 598. 600. 700. 800.\n",
      " 896.]\n"
     ]
    }
   ],
   "source": [
    "x = data.values.T[0]\n",
    "print(x)"
   ]
  },
  {
   "cell_type": "code",
   "execution_count": 20,
   "id": "009f17dc",
   "metadata": {},
   "outputs": [
    {
     "name": "stdout",
     "output_type": "stream",
     "text": [
      "[10.5  10.46 10.46 10.45 10.45 10.45 10.45 10.24 10.06  9.86  9.83  9.67\n",
      "  9.5   9.32  8.76  8.71  8.53  8.45  8.26  7.96  7.77  6.8   6.55  5.78\n",
      "  5.3   5.29  5.01  4.72  4.44]\n"
     ]
    }
   ],
   "source": [
    "y = data.values.T[1]\n",
    "print(y)"
   ]
  },
  {
   "cell_type": "markdown",
   "id": "521a2ea6",
   "metadata": {},
   "source": [
    "![вывод формулы](https://github.com/YuraAn/coursework/raw/main/derivation_of_formula.jpg)"
   ]
  },
  {
   "cell_type": "code",
   "execution_count": 26,
   "id": "11266b57",
   "metadata": {},
   "outputs": [
    {
     "name": "stdout",
     "output_type": "stream",
     "text": [
      "246.68965517241378\n"
     ]
    }
   ],
   "source": [
    "N = x.shape[0]\n",
    "mx = sum(x)/N\n",
    "print(mx)"
   ]
  },
  {
   "cell_type": "code",
   "execution_count": 27,
   "id": "2e632e2f",
   "metadata": {},
   "outputs": [
    {
     "name": "stdout",
     "output_type": "stream",
     "text": [
      "8.414827586206897\n"
     ]
    }
   ],
   "source": [
    "my = sum(y)/N\n",
    "print(my)"
   ]
  },
  {
   "cell_type": "code",
   "execution_count": 28,
   "id": "dbb4b330",
   "metadata": {},
   "outputs": [],
   "source": [
    "a2 = np.dot(x.T, x)/N\n",
    "a11 = np.dot(x.T, y)/N"
   ]
  },
  {
   "cell_type": "code",
   "execution_count": 29,
   "id": "a543d1f2",
   "metadata": {},
   "outputs": [
    {
     "name": "stdout",
     "output_type": "stream",
     "text": [
      "-0.007788256207208271\n",
      "10.336109824357516\n"
     ]
    }
   ],
   "source": [
    "k = (a11- mx*my)/(a2-mx**2)\n",
    "b = my -k*mx\n",
    "print(\"k =\" and k)\n",
    "print(\"b =\" and b)"
   ]
  },
  {
   "cell_type": "markdown",
   "id": "bad6e6c1",
   "metadata": {},
   "source": [
    "Построим график прямой и изначальных точек."
   ]
  },
  {
   "cell_type": "code",
   "execution_count": 31,
   "id": "fc0a354e",
   "metadata": {},
   "outputs": [
    {
     "data": {
      "image/png": "[encoded data removed]",
      "text/plain": [
       "<Figure size 432x288 with 1 Axes>"
      ]
     },
     "metadata": {
      "needs_background": "light"
     },
     "output_type": "display_data"
    }
   ],
   "source": [
    "f = np.array([k*z+b for z in range(1000)])\n",
    "plt.plot(f, c = 'red')\n",
    "plt.scatter(x,y, s=2, c = 'red')\n",
    "plt.grid(True)\n",
    "plt.show()"
   ]
  },
  {
   "cell_type": "code",
   "execution_count": null,
   "id": "f77b53fb",
   "metadata": {},
   "outputs": [],
   "source": [
    "С помощью Python можно легко решить эту задачу. Она может быть и прикладной. "
   ]
  },
  {
   "cell_type": "markdown",
   "id": "1f90bbb2",
   "metadata": {},
   "source": [
    "# 2 часть: политом Лагранжа"
   ]
  },
  {
   "cell_type": "markdown",
   "id": "ec115c03",
   "metadata": {},
   "source": [
    "Интерполяционный многочлен Лагранжа - это самый простой способ вычислить функцию, проходящую через данные точки. Степень многочлена, который проходит через N точек, будет (N-1). Напишем программу, которая строит этот многочлен."
   ]
  },
  {
   "cell_type": "code",
   "execution_count": 49,
   "id": "b3b8c6e7",
   "metadata": {},
   "outputs": [
    {
     "name": "stdout",
     "output_type": "stream",
     "text": [
      "[233.  232.5 232.8 234.1 234.  233.  231.  228.5 220.1 218.6 211.2 204.5\n",
      " 198.2 178.3 176.7 173.6 166.8 158.9 155.7 139.6 135.4 122.4 114.  113.9\n",
      " 107.8 101.5  95.4]\n"
     ]
    }
   ],
   "source": [
    "import numpy as np\n",
    "import pandas as pd\n",
    "import matplotlib.pyplot as plt\n",
    "data1 = pd.read_excel('https://github.com/YuraAn/coursework/raw/main/210_1.xlsx', sheet_name = 'Lagrange')\n",
    "data2 = data1.dropna()\n",
    "x1 = data2.values.T[0]\n",
    "print(x1)"
   ]
  },
  {
   "cell_type": "code",
   "execution_count": 50,
   "id": "76963a1f",
   "metadata": {},
   "outputs": [
    {
     "name": "stdout",
     "output_type": "stream",
     "text": [
      "[  0.   8.  10.  19.  20.  39.  50.  58.  75.  78. 101. 118. 126. 151.\n",
      " 153. 201. 252. 287. 302. 376. 403. 504. 603. 605. 706. 807. 904.]\n"
     ]
    }
   ],
   "source": [
    "y1 = data2.values.T[1]\n",
    "print(y1)"
   ]
  },
  {
   "cell_type": "markdown",
   "id": "37879976",
   "metadata": {},
   "source": [
    "Сначала напишем функцию, которая строит базовые полиномы. Они строятся так чтобы значение в Xi точке равнялось 1, а в остальных точках давало 0."
   ]
  },
  {
   "cell_type": "code",
   "execution_count": 51,
   "id": "aba777e9",
   "metadata": {},
   "outputs": [],
   "source": [
    "def create_basic_polynomial(x1, i):\n",
    "    def basic_polynomial(z):\n",
    "        divider = 1\n",
    "        result = 1\n",
    "        for j in range(len(x1)):\n",
    "            if j != i:\n",
    "                result *= (z-x1[j])\n",
    "                divider *= (x1[i]-x1[j])\n",
    "                if divider == 0:\n",
    "                    divider =1\n",
    "        return result/divider\n",
    "    return basic_polynomial"
   ]
  },
  {
   "cell_type": "markdown",
   "id": "01616cb6",
   "metadata": {},
   "source": [
    "Создадим функцию, которая строит конечный политом. В ней будет список, который сохраняет все наши полиномы.\n",
    "Теперь осталось домножить каждый такой полином на Yi, чтобы значение в этой совпадоло с Yi, а не с 1. И все вместе их сложить."
   ]
  },
  {
   "cell_type": "code",
   "execution_count": 52,
   "id": "405e4bdd",
   "metadata": {},
   "outputs": [],
   "source": [
    "def Lagrange_polynomial(x1, y1):\n",
    "    list_of_basic_polynomials = []\n",
    "    for i in range(len(x1)):\n",
    "        list_of_basic_polynomials.append(create_basic_polynomial(x1, i))\n",
    "    def lagrange_polynomial_final(z):\n",
    "        result = 0\n",
    "        for i in range(len(x1)):\n",
    "            result =result+ y1[i]*list_of_basic_polynomials[i](z)\n",
    "        return result\n",
    "    return lagrange_polynomial_final\n",
    "lagrange = Lagrange_polynomial(x1, y1)"
   ]
  },
  {
   "cell_type": "markdown",
   "id": "8ec6990a",
   "metadata": {},
   "source": [
    "Построим график чтобы убедиться, что всё сделали правильно."
   ]
  },
  {
   "cell_type": "code",
   "execution_count": 17,
   "id": "702c12a1",
   "metadata": {},
   "outputs": [
    {
     "name": "stderr",
     "output_type": "stream",
     "text": [
      "C:\\Temp\\ipykernel_4592\\990695255.py:9: RuntimeWarning: divide by zero encountered in divide\n",
      "  return result/divider\n",
      "C:\\Temp\\ipykernel_4592\\3355245468.py:8: RuntimeWarning: invalid value encountered in multiply\n",
      "  result =result+ y1[i]*list_of_basic_polynomials[i](x)\n"
     ]
    },
    {
     "data": {
      "image/png": "[encoded data removed]",
      "text/plain": [
       "<Figure size 640x480 with 1 Axes>"
      ]
     },
     "metadata": {},
     "output_type": "display_data"
    }
   ],
   "source": [
    "x = np.arange(np.min(x1)-1, np.max(x1)+1, 0.1)\n",
    "plt.plot(lagrange(x))\n",
    "plt.scatter(x1,y1, s=2, c = 'red')\n",
    "plt.xlim (np.min(x1)-1, np.max(x1)+1)\n",
    "plt.ylim (np.min(y1)-1, np.max(y1)+1)\n",
    "plt.grid(True)\n",
    "plt.show()"
   ]
  },
  {
   "cell_type": "markdown",
   "id": "c46cd86c",
   "metadata": {},
   "source": [
    "Видим деление на 0, надо исправить."
   ]
  },
  {
   "cell_type": "code",
   "execution_count": 76,
   "id": "bfbd5b70",
   "metadata": {},
   "outputs": [
    {
     "data": {
      "image/png": "[encoded data removed]",
      "text/plain": [
       "<Figure size 640x480 with 1 Axes>"
      ]
     },
     "metadata": {},
     "output_type": "display_data"
    }
   ],
   "source": [
    "k = np.arange(0, 250, 1)\n",
    "plt.plot(k,lagrange(k))\n",
    "plt.scatter(x1,y1,s =10, c = 'red')\n",
    "plt.xlim (np.min(x1)-11, np.max(x1)+11)\n",
    "plt.ylim (np.min(y1)-11, np.max(y1)+11)\n",
    "plt.grid(True)\n",
    "plt.show()"
   ]
  },
  {
   "cell_type": "markdown",
   "id": "e693402f",
   "metadata": {},
   "source": [
    "Вывод: С помощью Python можно решать задачи вычислительной математики. Есть множество библиотек для удобной работы с данными и наглядной визуализации. Всё эти достоинства делают этот язык программирования одним из самых популярных. "
   ]
  }
 ],
 "metadata": {
  "kernelspec": {
   "display_name": "Python 3 (ipykernel)",
   "language": "python",
   "name": "python3"
  },
  "language_info": {
   "codemirror_mode": {
    "name": "ipython",
    "version": 3
   },
   "file_extension": ".py",
   "mimetype": "text/x-python",
   "name": "python",
   "nbconvert_exporter": "python",
   "pygments_lexer": "ipython3",
   "version": "3.10.9"
  }
 },
 "nbformat": 4,
 "nbformat_minor": 5
}
