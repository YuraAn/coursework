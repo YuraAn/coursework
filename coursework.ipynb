{
 "cells": [
  {
   "cell_type": "markdown",
   "id": "19c085ca",
   "metadata": {},
   "source": [
    "# Курсовая работа"
   ]
  },
  {
   "cell_type": "markdown",
   "id": "0fbd83a3",
   "metadata": {},
   "source": [
    "## 1 часть: метод наименьших квадратов"
   ]
  },
  {
   "cell_type": "markdown",
   "id": "3101f7fb",
   "metadata": {},
   "source": [
    "В математике есть множество способов обработки данных и нахождение каких-либо закономерностей, но работать с достаточно большими данными вручную невозможно. Для таких целей можно воспользоваться языком программирования Python!"
   ]
  },
  {
   "cell_type": "code",
   "execution_count": null,
   "id": "490bc902",
   "metadata": {},
   "outputs": [],
   "source": [
    "Начнем  импорта основных полезных библиотек python для выполнения нашей задачи. У насс здесь несколько таких:\n",
    "    \n",
    "    numpy -> используется для математических и логических операций с нашими данными\n",
    "    \n",
    "    pandas -> Используется для обработки и хранения наших данных\n",
    "    \n",
    "    matplotlib -> Используется для визуализации данных, создания графиков и т.д.\n",
    "    "
   ]
  },
  {
   "cell_type": "code",
   "execution_count": null,
   "id": "e571a1c8",
   "metadata": {},
   "outputs": [],
   "source": [
    "import numpy as np\n",
    "import pandas as pd\n",
    "import matplotlib.pyplot as plt"
   ]
  }
 ],
 "metadata": {
  "kernelspec": {
   "display_name": "Python 3 (ipykernel)",
   "language": "python",
   "name": "python3"
  },
  "language_info": {
   "codemirror_mode": {
    "name": "ipython",
    "version": 3
   },
   "file_extension": ".py",
   "mimetype": "text/x-python",
   "name": "python",
   "nbconvert_exporter": "python",
   "pygments_lexer": "ipython3",
   "version": "3.9.13"
  }
 },
 "nbformat": 4,
 "nbformat_minor": 5
}
