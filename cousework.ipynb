{
 "cells": [
  {
   "cell_type": "markdown",
   "id": "19c085ca",
   "metadata": {},
   "source": [
    "# Курсовая работа"
   ]
  },
  {
   "cell_type": "markdown",
   "id": "0fbd83a3",
   "metadata": {},
   "source": [
    "## 1 часть: метод наименьших квадратов"
   ]
  },
  {
   "cell_type": "markdown",
   "id": "3101f7fb",
   "metadata": {},
   "source": [
    "В математике есть множество способов обработки данных и нахождение каких-либо закономерностей, но работать с достаточно большими данными вручную невозможно. Для таких целей можно воспользоваться языком программирования Python!"
   ]
  },
  {
   "cell_type": "markdown",
   "id": "b5c922e6",
   "metadata": {},
   "source": [
    "Начнем  импорта основных полезных библиотек python для выполнения нашей задачи. У насс здесь несколько таких:\n",
    "    \n",
    "    numpy -> используется для математических и логических операций с нашими данными\n",
    "    \n",
    "    pandas -> Используется для обработки и хранения наших данных\n",
    "    \n",
    "    matplotlib -> Используется для визуализации данных, создания графиков и т.д.\n",
    "    "
   ]
  },
  {
   "cell_type": "code",
   "execution_count": 4,
   "id": "e571a1c8",
   "metadata": {},
   "outputs": [
    {
     "name": "stderr",
     "output_type": "stream",
     "text": [
      "UsageError: Line magic function `%matpiotlib` not found.\n"
     ]
    }
   ],
   "source": [
    "import numpy as np\n",
    "import pandas as pd\n",
    "import matplotlib.pyplot as plt\n",
    "%matpiotlib inline"
   ]
  },
  {
   "cell_type": "markdown",
   "id": "cd9f2d90",
   "metadata": {},
   "source": [
    "Теперь возьмем данные из таблицы Exel c помощью библиотеки pandas. С ней удобно работать так как обычно задачи для обработки содержат достаточно много данных, которые автоматически записываются в таблицы."
   ]
  },
  {
   "cell_type": "code",
   "execution_count": 6,
   "id": "b278f33e",
   "metadata": {},
   "outputs": [
    {
     "name": "stdout",
     "output_type": "stream",
     "text": [
      "    x      y\n",
      "0   0  10.50\n",
      "1   8  10.46\n",
      "2  10  10.46\n",
      "3  19  10.45\n",
      "4  20  10.45\n"
     ]
    }
   ],
   "source": [
    "data = pd.read_excel('https://github.com/YuraAn/coursework/raw/main/210_1.xlsx', sheet_name = 'Анастасов')\n",
    "print(data.head())"
   ]
  },
  {
   "cell_type": "code",
   "execution_count": 19,
   "id": "b482d20f",
   "metadata": {},
   "outputs": [
    {
     "name": "stdout",
     "output_type": "stream",
     "text": [
      "[  0.   8.  10.  19.  20.  30.  39.  50.  58.  75.  78. 100. 117. 125.\n",
      " 150. 152. 200. 221. 250. 285. 300. 373. 400. 500. 598. 600. 700. 800.\n",
      " 896.]\n"
     ]
    }
   ],
   "source": [
    "x = data.values.T[0]\n",
    "print(x)"
   ]
  },
  {
   "cell_type": "code",
   "execution_count": 20,
   "id": "009f17dc",
   "metadata": {},
   "outputs": [
    {
     "name": "stdout",
     "output_type": "stream",
     "text": [
      "[10.5  10.46 10.46 10.45 10.45 10.45 10.45 10.24 10.06  9.86  9.83  9.67\n",
      "  9.5   9.32  8.76  8.71  8.53  8.45  8.26  7.96  7.77  6.8   6.55  5.78\n",
      "  5.3   5.29  5.01  4.72  4.44]\n"
     ]
    }
   ],
   "source": [
    "y = data.values.T[1]\n",
    "print(y)"
   ]
  },
  {
   "cell_type": "code",
   "execution_count": 26,
   "id": "11266b57",
   "metadata": {},
   "outputs": [
    {
     "name": "stdout",
     "output_type": "stream",
     "text": [
      "246.68965517241378\n"
     ]
    }
   ],
   "source": [
    "N = x.shape[0]\n",
    "mx = sum(x)/N\n",
    "print(mx)"
   ]
  },
  {
   "cell_type": "code",
   "execution_count": 27,
   "id": "2e632e2f",
   "metadata": {},
   "outputs": [
    {
     "name": "stdout",
     "output_type": "stream",
     "text": [
      "8.414827586206897\n"
     ]
    }
   ],
   "source": [
    "my = sum(y)/N\n",
    "print(my)"
   ]
  },
  {
   "cell_type": "code",
   "execution_count": 28,
   "id": "dbb4b330",
   "metadata": {},
   "outputs": [],
   "source": [
    "a2 = np.dot(x.T, x)/N\n",
    "a11 = np.dot(x.T, y)/N"
   ]
  },
  {
   "cell_type": "code",
   "execution_count": 29,
   "id": "a543d1f2",
   "metadata": {},
   "outputs": [
    {
     "name": "stdout",
     "output_type": "stream",
     "text": [
      "-0.007788256207208271\n",
      "10.336109824357516\n"
     ]
    }
   ],
   "source": [
    "k = (a11- mx*my)/(a2-mx**2)\n",
    "b = my -k*mx\n",
    "print(\"k =\" and k)\n",
    "print(\"b =\" and b)"
   ]
  },
  {
   "cell_type": "markdown",
   "id": "bad6e6c1",
   "metadata": {},
   "source": [
    "напишу что бла бла бла"
   ]
  },
  {
   "cell_type": "code",
   "execution_count": 31,
   "id": "fc0a354e",
   "metadata": {},
   "outputs": [
    {
     "data": {
      "image/png": "[encoded data removed]",
      "text/plain": [
       "<Figure size 432x288 with 1 Axes>"
      ]
     },
     "metadata": {
      "needs_background": "light"
     },
     "output_type": "display_data"
    }
   ],
   "source": [
    "f = np.array([k*z+b for z in range(1000)])\n",
    "plt.plot(f, c = 'red')\n",
    "plt.scatter(x,y, s=2, c = 'red')\n",
    "plt.grid(True)\n",
    "plt.show()"
   ]
  },
  {
   "cell_type": "code",
   "execution_count": null,
   "id": "8946b440",
   "metadata": {},
   "outputs": [],
   "source": []
  }
 ],
 "metadata": {
  "kernelspec": {
   "display_name": "Python 3 (ipykernel)",
   "language": "python",
   "name": "python3"
  },
  "language_info": {
   "codemirror_mode": {
    "name": "ipython",
    "version": 3
   },
   "file_extension": ".py",
   "mimetype": "text/x-python",
   "name": "python",
   "nbconvert_exporter": "python",
   "pygments_lexer": "ipython3",
   "version": "3.9.12"
  }
 },
 "nbformat": 4,
 "nbformat_minor": 5
}
